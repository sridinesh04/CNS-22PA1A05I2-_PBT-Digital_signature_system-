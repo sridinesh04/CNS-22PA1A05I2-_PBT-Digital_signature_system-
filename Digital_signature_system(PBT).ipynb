{
  "nbformat": 4,
  "nbformat_minor": 0,
  "metadata": {
    "colab": {
      "provenance": [],
      "authorship_tag": "ABX9TyP8kVfxs47f/vZEH2aLuwUt",
      "include_colab_link": true
    },
    "kernelspec": {
      "name": "python3",
      "display_name": "Python 3"
    },
    "language_info": {
      "name": "python"
    }
  },
  "cells": [
    {
      "cell_type": "markdown",
      "metadata": {
        "id": "view-in-github",
        "colab_type": "text"
      },
      "source": [
        "<a href=\"https://colab.research.google.com/github/sridinesh04/CNS-22PA1A05I2-_PBT-Digital_signature_system-/blob/main/Digital_signature_system(PBT).ipynb\" target=\"_parent\"><img src=\"https://colab.research.google.com/assets/colab-badge.svg\" alt=\"Open In Colab\"/></a>"
      ]
    },
    {
      "cell_type": "code",
      "execution_count": 1,
      "metadata": {
        "colab": {
          "base_uri": "https://localhost:8080/"
        },
        "id": "Z8g7xOBUSP0f",
        "outputId": "a20b8d0c-d4ca-4b89-bdfc-e24d977ae190"
      },
      "outputs": [
        {
          "output_type": "stream",
          "name": "stdout",
          "text": [
            "Requirement already satisfied: rsa in /usr/local/lib/python3.11/dist-packages (4.9)\n",
            "Requirement already satisfied: pyasn1>=0.1.3 in /usr/local/lib/python3.11/dist-packages (from rsa) (0.6.1)\n"
          ]
        }
      ],
      "source": [
        "pip install rsa\n"
      ]
    },
    {
      "cell_type": "code",
      "source": [
        "!pip install rsa\n"
      ],
      "metadata": {
        "colab": {
          "base_uri": "https://localhost:8080/"
        },
        "id": "wyyefBpUSe0A",
        "outputId": "0349dc97-efb0-4963-be5c-1adbc31f1a56"
      },
      "execution_count": 2,
      "outputs": [
        {
          "output_type": "stream",
          "name": "stdout",
          "text": [
            "Requirement already satisfied: rsa in /usr/local/lib/python3.11/dist-packages (4.9)\n",
            "Requirement already satisfied: pyasn1>=0.1.3 in /usr/local/lib/python3.11/dist-packages (from rsa) (0.6.1)\n"
          ]
        }
      ]
    },
    {
      "cell_type": "code",
      "source": [
        "import rsa\n",
        "print(\"RSA module imported successfully!\")\n"
      ],
      "metadata": {
        "colab": {
          "base_uri": "https://localhost:8080/"
        },
        "id": "pi1Cbit7SqRg",
        "outputId": "10ae4f1c-0b70-4a3c-e941-9657eb0b2923"
      },
      "execution_count": 4,
      "outputs": [
        {
          "output_type": "stream",
          "name": "stdout",
          "text": [
            "RSA module imported successfully!\n"
          ]
        }
      ]
    },
    {
      "cell_type": "code",
      "source": [
        "import rsa\n"
      ],
      "metadata": {
        "id": "gvHp7NAbTHNC"
      },
      "execution_count": 7,
      "outputs": []
    },
    {
      "cell_type": "code",
      "source": [
        "def generate_keys():\n",
        "    \"\"\"Generate RSA key pair (public and private keys).\"\"\"\n",
        "    public_key, private_key = rsa.newkeys(2048)\n",
        "    return public_key, private_key\n"
      ],
      "metadata": {
        "id": "FYXrHlPcTJuR"
      },
      "execution_count": 8,
      "outputs": []
    },
    {
      "cell_type": "code",
      "source": [
        "def sign_message(message, private_key):\n",
        "    \"\"\"Sign the message using the private key.\"\"\"\n",
        "    message_bytes = message.encode()  # Convert message to bytes\n",
        "    signature = rsa.sign(message_bytes, private_key, 'SHA-256')\n",
        "    return signature.hex()  # Convert to hexadecimal for easy display\n"
      ],
      "metadata": {
        "id": "o3KMT_16TMAD"
      },
      "execution_count": 9,
      "outputs": []
    },
    {
      "cell_type": "code",
      "source": [
        "def verify_signature(message, signature_hex, public_key):\n",
        "    \"\"\"Verify the digital signature using the public key.\"\"\"\n",
        "    try:\n",
        "        message_bytes = message.encode()\n",
        "        signature = bytes.fromhex(signature_hex)  # Convert hex back to bytes\n",
        "        rsa.verify(message_bytes, signature, public_key)\n",
        "        return True  # Signature is valid\n",
        "    except rsa.VerificationError:\n",
        "        return False  # Signature is invalid\n",
        "    except ValueError:\n",
        "        return False  # Incorrect signature format\n"
      ],
      "metadata": {
        "id": "7VKMK8T4TWgL"
      },
      "execution_count": 12,
      "outputs": []
    },
    {
      "cell_type": "code",
      "source": [
        "if __name__ == \"__main__\":\n",
        "    print(\"Generating RSA keys...\")\n",
        "    public_key, private_key = generate_keys()\n",
        "\n",
        "    message = \"This is a confidential message.\"\n",
        "    print(\"\\nOriginal Message:\", message)\n",
        "\n",
        "    # Generate digital signature\n",
        "    signature = sign_message(message, private_key)\n",
        "    print(\"\\nGenerated Digital Signature:\", signature)\n",
        "\n",
        "    # Verify signature\n",
        "    is_valid = verify_signature(message, signature, public_key)\n",
        "    if is_valid:\n",
        "        print(\"\\n✅ Signature is valid!\")\n",
        "    else:\n",
        "        print(\"\\n❌ Signature is invalid!\")\n"
      ],
      "metadata": {
        "colab": {
          "base_uri": "https://localhost:8080/"
        },
        "id": "tdbvhCS4TgUT",
        "outputId": "3dc19a70-95c9-4d94-b6e9-7acc5466985f"
      },
      "execution_count": 13,
      "outputs": [
        {
          "output_type": "stream",
          "name": "stdout",
          "text": [
            "Generating RSA keys...\n",
            "\n",
            "Original Message: This is a confidential message.\n",
            "\n",
            "Generated Digital Signature: 9e549ea3206ff8cd309979e0a26a73bb965295847dd7e977c9fd86b8748bdc464eefffb736bfd9a52051b7fac6e27088f2df941ea3c60fb23212793f455473d06018405f66722798326607b48c803c1207c32e5bc838003b87e2177c825ab3c9d46ed219f0c47515bf5591c1d465873caa38ccbe938bada650fce5391bc9a73dc1dd61949a5c1c234068c7bed3c552019529b3bc4129be4da445b3864e4273f6f61e69fed656ded02f78083cf252bf5fa3ad72bde50c36ff19b6103ea8e85c8b8176c67b6450af71d00efa937b17a3cf5a8844da6e68ea4796445409c9cecf00d7320d9754eb1783c23640688c03829079bef9c4dfdf756b8cee410d85fd0847\n",
            "\n",
            "✅ Signature is valid!\n"
          ]
        }
      ]
    },
    {
      "cell_type": "code",
      "source": [
        "import rsa\n",
        "\n",
        "def generate_keys():\n",
        "    \"\"\"Generate RSA key pair (public and private keys).\"\"\"\n",
        "    public_key, private_key = rsa.newkeys(2048)\n",
        "    return public_key, private_key\n",
        "\n",
        "def sign_message(message, private_key):\n",
        "    \"\"\"Sign the message using the private key.\"\"\"\n",
        "    message_bytes = message.encode()  # Convert message to bytes\n",
        "    signature = rsa.sign(message_bytes, private_key, 'SHA-256')\n",
        "    return signature.hex()  # Convert to hexadecimal for easy display\n",
        "\n",
        "def verify_signature(message, signature_hex, public_key):\n",
        "    \"\"\"Verify the digital signature using the public key.\"\"\"\n",
        "    try:\n",
        "        message_bytes = message.encode()\n",
        "        signature = bytes.fromhex(signature_hex)  # Convert hex back to bytes\n",
        "        rsa.verify(message_bytes, signature, public_key)\n",
        "        return True  # Signature is valid\n",
        "    except rsa.VerificationError:\n",
        "        return False  # Signature is invalid\n",
        "    except ValueError:\n",
        "        return False  # Incorrect signature format\n",
        "\n",
        "# Example Usage\n",
        "if __name__ == \"__main__\":\n",
        "    print(\"Generating RSA keys...\")\n",
        "    public_key, private_key = generate_keys()\n",
        "\n",
        "    message = \"This is a confidential message.\"\n",
        "    print(\"\\nOriginal Message:\", message)\n",
        "\n",
        "    # Generate digital signature\n",
        "    signature = sign_message(message, private_key)\n",
        "    print(\"\\nGenerated Digital Signature:\", signature)\n",
        "\n",
        "    # Verify signature\n",
        "    is_valid = verify_signature(message, signature, public_key)\n",
        "    if is_valid:\n",
        "        print(\"\\n✅ Signature is valid!\")\n",
        "    else:\n",
        "        print(\"\\n❌ Signature is invalid!\")\n"
      ],
      "metadata": {
        "colab": {
          "base_uri": "https://localhost:8080/"
        },
        "id": "EcThrQcQSyKd",
        "outputId": "9ae5fa31-3834-488b-b549-88ff68f3a8e0"
      },
      "execution_count": 6,
      "outputs": [
        {
          "output_type": "stream",
          "name": "stdout",
          "text": [
            "Generating RSA keys...\n",
            "\n",
            "Original Message: This is a confidential message.\n",
            "\n",
            "Generated Digital Signature: 0f8843ce5211271c2254143666fbefd84c9d48b3efcfdba0dfc362b2b4bcbbeacec95dd04181507d903eea121dd960a50be89e39212c69d97d15e5ae40e4919b120690355e372ffba16de6e300e7f0a851cddc9d5cc4815cd1cb909481bce2981ac1f19927c48fcd9c33d92b9ee5964c68211a3b5d466f3e042f39abd7d786f7ecf3db2b1c9b685e64ab49668886213317412b1f88796802b7ce7cc94b42eae2b3a69dad3001ca9b9501630ca0c17bd7f0043acf814d5550fd6630897792e65e789d9c1e1e7ecca3e22fddcd7c5bfc9af2e9a5a69e96228434ef2ddc3b16c4192b11a88e4e131463d9c38ab86cf285528bf6aa5efc660589845bf2a32efbb1d5\n",
            "\n",
            "✅ Signature is valid!\n"
          ]
        }
      ]
    },
    {
      "cell_type": "code",
      "source": [
        "import rsa\n",
        "\n",
        "# 🔹 Function to generate and save RSA keys\n",
        "def generate_keys():\n",
        "    \"\"\"Generate and save RSA key pair (public and private keys).\"\"\"\n",
        "    print(\"\\n🔹 Generating RSA Key Pair...\")\n",
        "    public_key, private_key = rsa.newkeys(2048)\n",
        "\n",
        "    # Save keys to files\n",
        "    with open(\"public_key.pem\", \"wb\") as pub_file:\n",
        "        pub_file.write(public_key.save_pkcs1(\"PEM\"))\n",
        "\n",
        "    with open(\"private_key.pem\", \"wb\") as priv_file:\n",
        "        priv_file.write(private_key.save_pkcs1(\"PEM\"))\n",
        "\n",
        "    print(\"✅ Public and Private Keys Generated and Saved!\")\n",
        "    return public_key, private_key\n",
        "\n",
        "# 🔹 Function to load keys from files\n",
        "def load_keys():\n",
        "    \"\"\"Load RSA public and private keys from files.\"\"\"\n",
        "    try:\n",
        "        with open(\"public_key.pem\", \"rb\") as pub_file:\n",
        "            public_key = rsa.PublicKey.load_pkcs1(pub_file.read())\n",
        "\n",
        "        with open(\"private_key.pem\", \"rb\") as priv_file:\n",
        "            private_key = rsa.PrivateKey.load_pkcs1(priv_file.read())\n",
        "\n",
        "        print(\"\\n✅ Keys Loaded Successfully!\")\n",
        "        return public_key, private_key\n",
        "    except FileNotFoundError:\n",
        "        print(\"\\n❌ Key files not found! Generating new keys...\")\n",
        "        return generate_keys()\n",
        "\n",
        "# 🔹 Function to sign a message\n",
        "def sign_message(message, private_key):\n",
        "    \"\"\"Generate a digital signature for the given message.\"\"\"\n",
        "    print(\"\\n🔹 Signing the message...\")\n",
        "    message_bytes = message.encode()\n",
        "    signature = rsa.sign(message_bytes, private_key, 'SHA-256')\n",
        "    signature_hex = signature.hex()\n",
        "\n",
        "    # Save signature to a file\n",
        "    with open(\"signature.txt\", \"w\") as sig_file:\n",
        "        sig_file.write(signature_hex)\n",
        "\n",
        "    print(\"✅ Digital Signature Generated and Saved!\")\n",
        "    return signature_hex\n",
        "\n",
        "# 🔹 Function to verify a digital signature\n",
        "def verify_signature(message, signature_hex, public_key):\n",
        "    \"\"\"Verify the digital signature using the public key.\"\"\"\n",
        "    print(\"\\n🔹 Verifying the signature...\")\n",
        "    try:\n",
        "        message_bytes = message.encode()\n",
        "        signature = bytes.fromhex(signature_hex)\n",
        "        rsa.verify(message_bytes, signature, public_key)\n",
        "        print(\"✅ Signature is VALID! Message is authentic.\")\n",
        "        return True\n",
        "    except rsa.VerificationError:\n",
        "        print(\"❌ Signature is INVALID! Message may be tampered with.\")\n",
        "        return False\n",
        "    except ValueError:\n",
        "        print(\"❌ Incorrect signature format!\")\n",
        "        return False\n",
        "\n",
        "# 🔹 Main execution function\n",
        "def main():\n",
        "    \"\"\"Main function to handle user interactions for Digital Signature System.\"\"\"\n",
        "    print(\"\\n🔹 Welcome to Digital Signature System 🔹\")\n",
        "\n",
        "    # Load or generate keys\n",
        "    public_key, private_key = load_keys()\n",
        "\n",
        "    while True:\n",
        "        print(\"\\nOptions:\")\n",
        "        print(\"1️⃣ Sign a Message\")\n",
        "        print(\"2️⃣ Verify a Signature\")\n",
        "        print(\"3️⃣ Exit\")\n",
        "        choice = input(\"\\nEnter your choice (1/2/3): \")\n",
        "\n",
        "        if choice == \"1\":\n",
        "            message = input(\"\\nEnter the message to sign: \")\n",
        "            signature = sign_message(message, private_key)\n",
        "            print(\"\\n🔹 Digital Signature:\", signature)\n",
        "\n",
        "        elif choice == \"2\":\n",
        "            message = input(\"\\nEnter the original message: \")\n",
        "            try:\n",
        "                with open(\"signature.txt\", \"r\") as sig_file:\n",
        "                    saved_signature = sig_file.read().strip()\n",
        "                verify_signature(message, saved_signature, public_key)\n",
        "            except FileNotFoundError:\n",
        "                print(\"❌ Signature file not found! Sign a message first.\")\n",
        "\n",
        "        elif choice == \"3\":\n",
        "            print(\"\\n🚀 Exiting... Thank you for using the Digital Signature System!\")\n",
        "            break\n",
        "\n",
        "        else:\n",
        "            print(\"❌ Invalid choice! Please enter 1, 2, or 3.\")\n",
        "\n",
        "# Run the program\n",
        "if __name__ == \"__main__\":\n",
        "    main()\n"
      ],
      "metadata": {
        "colab": {
          "base_uri": "https://localhost:8080/"
        },
        "id": "DFIinh1LToLs",
        "outputId": "c29e3b06-729d-4b19-d9b7-88e4e97dfff0"
      },
      "execution_count": 14,
      "outputs": [
        {
          "output_type": "stream",
          "name": "stdout",
          "text": [
            "\n",
            "🔹 Welcome to Digital Signature System 🔹\n",
            "\n",
            "❌ Key files not found! Generating new keys...\n",
            "\n",
            "🔹 Generating RSA Key Pair...\n",
            "✅ Public and Private Keys Generated and Saved!\n",
            "\n",
            "Options:\n",
            "1️⃣ Sign a Message\n",
            "2️⃣ Verify a Signature\n",
            "3️⃣ Exit\n",
            "\n",
            "Enter your choice (1/2/3): 1\n",
            "\n",
            "Enter the message to sign: hiiiiiii\n",
            "\n",
            "🔹 Signing the message...\n",
            "✅ Digital Signature Generated and Saved!\n",
            "\n",
            "🔹 Digital Signature: 0b7e229433721700b76508918235920808c3e5c698b5a2721e9003f98030716f100c06e2ca5e1e232e9516cbe856846492d90c47f36f2cc6b8ad49cdf780fdb450604805fed181d394abe8f21d1d1abf1dc6dbfe519aae8a32cc0b3a9e86bf6d14dd338875335357ce6d3da6d55464e0d8344de40a746412a541dd7638fa2d27e0c81e47bf508ab50f6a8877939e866c1c9e3b504b83300b08490235e357cf17e168b82299152ccc672c1e4e1e507bcb56eaaa8f158b875f9010161aa77be0bc719bfd821014af79a09fbb27544dd031fb5f3bbe141c1fcabc36ed33fe68eb5ebefc1d3651da3d744552f52203b9a3a37c67e64dbf7046fc05ac3ae8d5956c66\n",
            "\n",
            "Options:\n",
            "1️⃣ Sign a Message\n",
            "2️⃣ Verify a Signature\n",
            "3️⃣ Exit\n",
            "\n",
            "Enter your choice (1/2/3): 2\n",
            "\n",
            "Enter the original message: hiiiiiiii\n",
            "\n",
            "🔹 Verifying the signature...\n",
            "❌ Signature is INVALID! Message may be tampered with.\n",
            "\n",
            "Options:\n",
            "1️⃣ Sign a Message\n",
            "2️⃣ Verify a Signature\n",
            "3️⃣ Exit\n",
            "\n",
            "Enter your choice (1/2/3): 3\n",
            "\n",
            "🚀 Exiting... Thank you for using the Digital Signature System!\n"
          ]
        }
      ]
    }
  ]
}